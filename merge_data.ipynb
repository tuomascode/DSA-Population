{
 "cells": [
  {
   "cell_type": "code",
   "execution_count": 114,
   "id": "2704c478",
   "metadata": {},
   "outputs": [
    {
     "name": "stderr",
     "output_type": "stream",
     "text": [
      "<>:4: SyntaxWarning: invalid escape sequence '\\g'\n",
      "<>:5: SyntaxWarning: invalid escape sequence '\\c'\n",
      "<>:4: SyntaxWarning: invalid escape sequence '\\g'\n",
      "<>:5: SyntaxWarning: invalid escape sequence '\\c'\n",
      "C:\\Users\\tvuontis\\AppData\\Local\\Temp\\ipykernel_20080\\2092190555.py:4: SyntaxWarning: invalid escape sequence '\\g'\n",
      "  df_gdp = pd.read_csv(\"data_gdp\\gdp_data.csv\")\n",
      "C:\\Users\\tvuontis\\AppData\\Local\\Temp\\ipykernel_20080\\2092190555.py:5: SyntaxWarning: invalid escape sequence '\\c'\n",
      "  df_wdi = pd.read_csv(\"data\\cleanWDI.csv\")\n"
     ]
    }
   ],
   "source": [
    "import pandas as pd\n",
    "# produce \"data/all_data.csv\" for later usage\n",
    "\n",
    "df_gdp = pd.read_csv(\"data_gdp\\gdp_data.csv\")\n",
    "df_wdi = pd.read_csv(\"data\\cleanWDI.csv\")\n",
    "df_wdi.loc[df_wdi[\"Country Name\"] == \"Namibia\", \"Country Code\"] = \"NB\"\n",
    "# df_wdi[df_wdi[\"Country Name\"] == \"Namibia\"]"
   ]
  },
  {
   "cell_type": "code",
   "execution_count": 115,
   "id": "ab9f0525",
   "metadata": {},
   "outputs": [],
   "source": [
    "from database.utils import code_based_get, get_country\n",
    "from tqdm import tqdm\n",
    "\n",
    "def get_a2_map(df):\n",
    "    mapping = {}\n",
    "    failed = []\n",
    "    for c in tqdm(df[\"name\"].unique(), \"Solving alpha2 values\"):\n",
    "        try:\n",
    "            if c == \"Namibia\":\n",
    "                mapping[c] == \"NB\"\n",
    "            else:\n",
    "                mapping[c] = get_country(c).alpha_2\n",
    "        except:\n",
    "            try:\n",
    "                mapping[c] = code_based_get(c).alpha_2\n",
    "            except:\n",
    "                failed.append(c)\n",
    "    if failed:\n",
    "        print(failed)\n",
    "        raise KeyError(f\"{', '.join(failed)} not found by get_country\")\n",
    "    return mapping"
   ]
  },
  {
   "cell_type": "code",
   "execution_count": 116,
   "id": "b400b4f1",
   "metadata": {},
   "outputs": [],
   "source": [
    "df_gdp.rename(columns={\"Country Name\": \"name\", \"Time\": \"year\"}, inplace=True)\n",
    "df_wdi.rename(columns={\"Country Code\": \"alpha_2\", \"Time\": \"year\", \"Country Name\": \"name\"}, inplace=True)"
   ]
  },
  {
   "cell_type": "code",
   "execution_count": 117,
   "id": "390e6993",
   "metadata": {},
   "outputs": [
    {
     "name": "stderr",
     "output_type": "stream",
     "text": [
      "Solving alpha2 values: 100%|██████████| 266/266 [00:03<00:00, 82.45it/s]"
     ]
    },
    {
     "name": "stdout",
     "output_type": "stream",
     "text": [
      "{'Aruba': 'AW', 'Africa Eastern and Southern': 'XX', 'Afghanistan': 'AF', 'Africa Western and Central': 'XX', 'Angola': 'AO', 'Albania': 'AL', 'Andorra': 'AD', 'Arab World': 'XX', 'United Arab Emirates': 'AE', 'Argentina': 'AR', 'Armenia': 'AM', 'American Samoa': 'AS', 'Antigua and Barbuda': 'AG', 'Australia': 'AU', 'Austria': 'AT', 'Azerbaijan': 'AZ', 'Burundi': 'BI', 'Belgium': 'BE', 'Benin': 'BJ', 'Burkina Faso': 'BF', 'Bangladesh': 'BD', 'Bulgaria': 'BG', 'Bahrain': 'BH', 'Bahamas, The': 'XX', 'Bosnia and Herzegovina': 'BA', 'Belarus': 'BY', 'Belize': 'BZ', 'Bermuda': 'BM', 'Bolivia': 'BO', 'Brazil': 'BR', 'Barbados': 'BB', 'Brunei Darussalam': 'BN', 'Bhutan': 'BT', 'Botswana': 'BW', 'Central African Republic': 'CF', 'Canada': 'CA', 'Central Europe and the Baltics': 'XX', 'Switzerland': 'CH', 'Channel Islands': 'XX', 'Chile': 'CL', 'China': 'CN', \"Cote d'Ivoire\": 'CI', 'Cameroon': 'CM', 'Congo, Dem. Rep.': 'XX', 'Congo, Rep.': 'XX', 'Colombia': 'CO', 'Comoros': 'KM', 'Cabo Verde': 'CV', 'Costa Rica': 'CR', 'Caribbean small states': 'XX', 'Cuba': 'CU', 'Curacao': 'NL', 'Cayman Islands': 'KY', 'Cyprus': 'CY', 'Czechia': 'CZ', 'Germany': 'DE', 'Djibouti': 'DJ', 'Dominica': 'DM', 'Denmark': 'DK', 'Dominican Republic': 'DO', 'Algeria': 'DZ', 'East Asia & Pacific (excluding high income)': 'XX', 'Early-demographic dividend': 'XX', 'East Asia & Pacific': 'XX', 'Europe & Central Asia (excluding high income)': 'XX', 'Europe & Central Asia': 'XX', 'Ecuador': 'EC', 'Egypt, Arab Rep.': 'XX', 'Euro area': 'XX', 'Eritrea': 'ER', 'Spain': 'ES', 'Estonia': 'EE', 'Ethiopia': 'ET', 'European Union': 'XX', 'Fragile and conflict affected situations': 'XX', 'Finland': 'FI', 'Fiji': 'FJ', 'France': 'FR', 'Faroe Islands': 'FO', 'Micronesia, Fed. Sts.': 'XX', 'Gabon': 'GA', 'United Kingdom': 'GB', 'Georgia': 'GE', 'Ghana': 'GH', 'Gibraltar': 'GI', 'Guinea': 'GN', 'Gambia, The': 'XX', 'Guinea-Bissau': 'GW', 'Equatorial Guinea': 'GQ', 'Greece': 'GR', 'Grenada': 'GD', 'Greenland': 'GL', 'Guatemala': 'GT', 'Guam': 'GU', 'Guyana': 'GY', 'High income': 'XX', 'Hong Kong SAR, China': 'XX', 'Honduras': 'HN', 'Heavily indebted poor countries (HIPC)': 'XX', 'Croatia': 'HR', 'Haiti': 'HT', 'Hungary': 'HU', 'IBRD only': 'XX', 'IDA & IBRD total': 'XX', 'IDA total': 'XX', 'IDA blend': 'XX', 'Indonesia': 'ID', 'IDA only': 'XX', 'Isle of Man': 'IM', 'India': 'IN', 'Not classified': 'XX', 'Ireland': 'IE', 'Iran, Islamic Rep.': 'XX', 'Iraq': 'IQ', 'Iceland': 'IS', 'Israel': 'IL', 'Italy': 'IT', 'Jamaica': 'JM', 'Jordan': 'JO', 'Japan': 'JP', 'Kazakhstan': 'KZ', 'Kenya': 'KE', 'Kyrgyz Republic': 'KG', 'Cambodia': 'KH', 'Kiribati': 'KI', 'St. Kitts and Nevis': 'XX', 'Korea, Rep.': 'XX', 'Kuwait': 'KW', 'Latin America & Caribbean (excluding high income)': 'XX', 'Lao PDR': 'XX', 'Lebanon': 'LB', 'Liberia': 'LR', 'Libya': 'LY', 'St. Lucia': 'XX', 'Latin America & Caribbean': 'XX', 'Least developed countries: UN classification': 'XX', 'Low income': 'XX', 'Liechtenstein': 'LI', 'Sri Lanka': 'LK', 'Lower middle income': 'XX', 'Low & middle income': 'XX', 'Lesotho': 'LS', 'Late-demographic dividend': 'XX', 'Lithuania': 'LT', 'Luxembourg': 'LU', 'Latvia': 'LV', 'Macao SAR, China': 'XX', 'St. Martin (French part)': 'XX', 'Morocco': 'MA', 'Monaco': 'MC', 'Moldova': 'MD', 'Madagascar': 'MG', 'Maldives': 'MV', 'Middle East, North Africa, Afghanistan & Pakistan': 'XX', 'Mexico': 'MX', 'Marshall Islands': 'MH', 'Middle income': 'XX', 'North Macedonia': 'MK', 'Mali': 'ML', 'Malta': 'MT', 'Myanmar': 'MM', 'Middle East, North Africa, Afghanistan & Pakistan (excluding high income)': 'XX', 'Montenegro': 'ME', 'Mongolia': 'MN', 'Northern Mariana Islands': 'MP', 'Mozambique': 'MZ', 'Mauritania': 'MR', 'Mauritius': 'MU', 'Malawi': 'MW', 'Malaysia': 'MY', 'North America': 'XX', 'Namibia': 'XX', 'New Caledonia': 'NC', 'Niger': 'NG', 'Nigeria': 'NG', 'Nicaragua': 'NI', 'Netherlands': 'NL', 'Norway': 'NO', 'Nepal': 'NP', 'Nauru': 'NR', 'New Zealand': 'NZ', 'OECD members': 'XX', 'Oman': 'OM', 'Other small states': 'XX', 'Pakistan': 'PK', 'Panama': 'PA', 'Peru': 'PE', 'Philippines': 'PH', 'Palau': 'PW', 'Papua New Guinea': 'PG', 'Poland': 'PL', 'Pre-demographic dividend': 'XX', 'Puerto Rico (US)': 'XX', \"Korea, Dem. People's Rep.\": 'XX', 'Portugal': 'PT', 'Paraguay': 'PY', 'West Bank and Gaza': 'XX', 'Pacific island small states': 'XX', 'Post-demographic dividend': 'XX', 'French Polynesia': 'PF', 'Qatar': 'QA', 'Romania': 'RO', 'Russian Federation': 'RU', 'Rwanda': 'RW', 'South Asia': 'XX', 'Saudi Arabia': 'SA', 'Sudan': 'SD', 'Senegal': 'SN', 'Singapore': 'SG', 'Solomon Islands': 'SB', 'Sierra Leone': 'SL', 'El Salvador': 'SV', 'San Marino': 'SM', 'Somalia': 'SO', 'Serbia': 'RS', 'Sub-Saharan Africa (excluding high income)': 'XX', 'South Sudan': 'SS', 'Sub-Saharan Africa': 'XX', 'Small states': 'XX', 'Sao Tome and Principe': 'ST', 'Suriname': 'SR', 'Slovak Republic': 'SK', 'Slovenia': 'SI', 'Sweden': 'SE', 'Eswatini': 'SZ', 'Sint Maarten (Dutch part)': 'SX', 'Seychelles': 'SC', 'Syrian Arab Republic': 'SY', 'Turks and Caicos Islands': 'TC', 'Chad': 'TD', 'East Asia & Pacific (IDA & IBRD countries)': 'XX', 'Europe & Central Asia (IDA & IBRD countries)': 'XX', 'Togo': 'TG', 'Thailand': 'TH', 'Tajikistan': 'TJ', 'Turkmenistan': 'TM', 'Latin America & the Caribbean (IDA & IBRD countries)': 'XX', 'Timor-Leste': 'TL', 'Middle East, North Africa, Afghanistan & Pakistan (IDA & IBRD)': 'XX', 'Tonga': 'TO', 'South Asia (IDA & IBRD)': 'XX', 'Sub-Saharan Africa (IDA & IBRD countries)': 'XX', 'Trinidad and Tobago': 'TT', 'Tunisia': 'TN', 'Turkiye': 'TR', 'Tuvalu': 'TV', 'Tanzania': 'TZ', 'Uganda': 'UG', 'Ukraine': 'UA', 'Upper middle income': 'XX', 'Uruguay': 'UY', 'United States': 'US', 'Uzbekistan': 'UZ', 'St. Vincent and the Grenadines': 'XX', 'Venezuela, RB': 'XX', 'British Virgin Islands': 'VG', 'Virgin Islands (U.S.)': 'XX', 'Viet Nam': 'VN', 'Vanuatu': 'VU', 'World': 'XX', 'Samoa': 'WS', 'Kosovo': 'RS', 'Yemen, Rep.': 'XX', 'South Africa': 'ZA', 'Zambia': 'ZM', 'Zimbabwe': 'ZW'}\n"
     ]
    },
    {
     "name": "stderr",
     "output_type": "stream",
     "text": [
      "\n"
     ]
    }
   ],
   "source": [
    "mapping = get_a2_map(df_gdp)\n",
    "print(mapping)"
   ]
  },
  {
   "cell_type": "code",
   "execution_count": 118,
   "id": "d56b2421",
   "metadata": {},
   "outputs": [
    {
     "data": {
      "text/html": [
       "<div>\n",
       "<style scoped>\n",
       "    .dataframe tbody tr th:only-of-type {\n",
       "        vertical-align: middle;\n",
       "    }\n",
       "\n",
       "    .dataframe tbody tr th {\n",
       "        vertical-align: top;\n",
       "    }\n",
       "\n",
       "    .dataframe thead th {\n",
       "        text-align: right;\n",
       "    }\n",
       "</style>\n",
       "<table border=\"1\" class=\"dataframe\">\n",
       "  <thead>\n",
       "    <tr style=\"text-align: right;\">\n",
       "      <th></th>\n",
       "      <th>name</th>\n",
       "      <th>alpha_2</th>\n",
       "      <th>year</th>\n",
       "      <th>GDP</th>\n",
       "    </tr>\n",
       "  </thead>\n",
       "  <tbody>\n",
       "    <tr>\n",
       "      <th>0</th>\n",
       "      <td>Aruba</td>\n",
       "      <td>AW</td>\n",
       "      <td>1960</td>\n",
       "      <td>NaN</td>\n",
       "    </tr>\n",
       "    <tr>\n",
       "      <th>1</th>\n",
       "      <td>Aruba</td>\n",
       "      <td>AW</td>\n",
       "      <td>1961</td>\n",
       "      <td>NaN</td>\n",
       "    </tr>\n",
       "    <tr>\n",
       "      <th>2</th>\n",
       "      <td>Aruba</td>\n",
       "      <td>AW</td>\n",
       "      <td>1962</td>\n",
       "      <td>NaN</td>\n",
       "    </tr>\n",
       "    <tr>\n",
       "      <th>3</th>\n",
       "      <td>Aruba</td>\n",
       "      <td>AW</td>\n",
       "      <td>1963</td>\n",
       "      <td>NaN</td>\n",
       "    </tr>\n",
       "    <tr>\n",
       "      <th>4</th>\n",
       "      <td>Aruba</td>\n",
       "      <td>AW</td>\n",
       "      <td>1964</td>\n",
       "      <td>NaN</td>\n",
       "    </tr>\n",
       "  </tbody>\n",
       "</table>\n",
       "</div>"
      ],
      "text/plain": [
       "    name alpha_2  year  GDP\n",
       "0  Aruba      AW  1960  NaN\n",
       "1  Aruba      AW  1961  NaN\n",
       "2  Aruba      AW  1962  NaN\n",
       "3  Aruba      AW  1963  NaN\n",
       "4  Aruba      AW  1964  NaN"
      ]
     },
     "execution_count": 118,
     "metadata": {},
     "output_type": "execute_result"
    }
   ],
   "source": [
    "# Convert ISO2_Code to alpha_2\n",
    "df_gdp.insert(loc = 2, column = \"alpha_2\", value = df_gdp[\"name\"].map(mapping))\n",
    "df_gdp.drop([\"ISO2_code\"], axis=1, inplace=True)\n",
    "df_gdp.head(5)"
   ]
  },
  {
   "cell_type": "code",
   "execution_count": 119,
   "id": "eee2ab7f",
   "metadata": {},
   "outputs": [
    {
     "data": {
      "text/plain": [
       "(10447, 21)"
      ]
     },
     "execution_count": 119,
     "metadata": {},
     "output_type": "execute_result"
    }
   ],
   "source": [
    "df = pd.merge(df_gdp, df_wdi, on=[\"alpha_2\", \"year\"], how=\"outer\")\n",
    "df.dropna(subset=['GDP'],inplace=True)\n",
    "df = df[df.alpha_2 != \"XX\"]\n",
    "df[\"alpha_2\"] = df[\"alpha_2\"].fillna(\"NA\")\n",
    "df.shape"
   ]
  },
  {
   "cell_type": "code",
   "execution_count": 120,
   "id": "61bb7e8e",
   "metadata": {},
   "outputs": [],
   "source": [
    "rename_map = {\n",
    "    'Fertility rate, total (births per woman) [SP.DYN.TFRT.IN]': 'fertility_rate',\n",
    "    'Birth rate, crude (per 1,000 people) [SP.DYN.CBRT.IN]': 'birth_rate',\n",
    "    'Death rate, crude (per 1,000 people) [SP.DYN.CDRT.IN]': 'death_rate',\n",
    "    'Life expectancy at birth, total (years) [SP.DYN.LE00.IN]': 'life_expectancy',\n",
    "    'Net migration [SM.POP.NETM]': 'net_migration',\n",
    "    'Individuals using the Internet (% of population) [IT.NET.USER.ZS]': 'internet_users_pct',\n",
    "    'Gini index [SI.POV.GINI]': 'gini_index',\n",
    "    'Human capital index (HCI) (scale 0-1) [HD.HCI.OVRL]': 'human_capital_index',\n",
    "    'School enrollment, secondary (gross), gender parity index (GPI) [SE.ENR.SECO.FM.ZS]': 'school_enroll_secondary_gpi',\n",
    "    'Literacy rate, youth (ages 15-24), gender parity index (GPI) [SE.ADT.1524.LT.FM.ZS]': 'youth_literacy_gpi',\n",
    "    'Urban population (% of total population) [SP.URB.TOTL.IN.ZS]': 'urban_population_pct',\n",
    "    'Mortality rate, infant (per 1,000 live births) [SP.DYN.IMRT.IN]': 'infant_mortality_rate',\n",
    "    'Current health expenditure per capita, PPP (current international $) [SH.XPD.CHEX.PP.CD]': 'health_expenditure_per_capita_ppp',\n",
    "    'Population, female (% of total population) [SP.POP.TOTL.FE.ZS]': 'female_population_pct',\n",
    "    'Population, male (% of total population) [SP.POP.TOTL.MA.ZS]': 'male_population_pct',\n",
    "    'Population, total [SP.POP.TOTL]': 'population_WDI',\n",
    "    'pop': 'population_WRP',\n",
    "    'population': 'population_WPP',\n",
    "}\n",
    "df.rename(columns=rename_map, inplace=True)"
   ]
  },
  {
   "cell_type": "code",
   "execution_count": 121,
   "id": "7a7b5c5a",
   "metadata": {},
   "outputs": [
    {
     "data": {
      "text/html": [
       "<div>\n",
       "<style scoped>\n",
       "    .dataframe tbody tr th:only-of-type {\n",
       "        vertical-align: middle;\n",
       "    }\n",
       "\n",
       "    .dataframe tbody tr th {\n",
       "        vertical-align: top;\n",
       "    }\n",
       "\n",
       "    .dataframe thead th {\n",
       "        text-align: right;\n",
       "    }\n",
       "</style>\n",
       "<table border=\"1\" class=\"dataframe\">\n",
       "  <thead>\n",
       "    <tr style=\"text-align: right;\">\n",
       "      <th></th>\n",
       "      <th>name_x</th>\n",
       "      <th>alpha_2</th>\n",
       "      <th>year</th>\n",
       "      <th>GDP</th>\n",
       "      <th>name_y</th>\n",
       "      <th>fertility_rate</th>\n",
       "      <th>birth_rate</th>\n",
       "      <th>death_rate</th>\n",
       "      <th>life_expectancy</th>\n",
       "      <th>net_migration</th>\n",
       "      <th>...</th>\n",
       "      <th>gini_index</th>\n",
       "      <th>human_capital_index</th>\n",
       "      <th>school_enroll_secondary_gpi</th>\n",
       "      <th>youth_literacy_gpi</th>\n",
       "      <th>urban_population_pct</th>\n",
       "      <th>infant_mortality_rate</th>\n",
       "      <th>health_expenditure_per_capita_ppp</th>\n",
       "      <th>female_population_pct</th>\n",
       "      <th>male_population_pct</th>\n",
       "      <th>population_WDI</th>\n",
       "    </tr>\n",
       "  </thead>\n",
       "  <tbody>\n",
       "  </tbody>\n",
       "</table>\n",
       "<p>0 rows × 21 columns</p>\n",
       "</div>"
      ],
      "text/plain": [
       "Empty DataFrame\n",
       "Columns: [name_x, alpha_2, year, GDP, name_y, fertility_rate, birth_rate, death_rate, life_expectancy, net_migration, internet_users_pct, gini_index, human_capital_index, school_enroll_secondary_gpi, youth_literacy_gpi, urban_population_pct, infant_mortality_rate, health_expenditure_per_capita_ppp, female_population_pct, male_population_pct, population_WDI]\n",
       "Index: []\n",
       "\n",
       "[0 rows x 21 columns]"
      ]
     },
     "execution_count": 121,
     "metadata": {},
     "output_type": "execute_result"
    }
   ],
   "source": [
    "# Remove countries where names differ\n",
    "mask = df[\"name_x\"] != df[\"name_y\"]\n",
    "df = df[~mask]\n",
    "df[df[\"name_x\"] != df[\"name_y\"]]\n"
   ]
  },
  {
   "cell_type": "code",
   "execution_count": 122,
   "id": "0f60a132",
   "metadata": {},
   "outputs": [],
   "source": [
    "df.rename(columns={\"name_x\": \"name\",}, inplace=True)\n",
    "\n",
    "columns_of_interest = [\n",
    "    'name',\n",
    "    'alpha_2',\n",
    "    'year',\n",
    "    'population_WDI',\n",
    "    'GDP',\n",
    "    'life_expectancy',\n",
    "    'net_migration',\n",
    "    'internet_users_pct',\n",
    "    'human_capital_index',\n",
    "    'school_enroll_secondary_gpi',\n",
    "    'youth_literacy_gpi',\n",
    "    'urban_population_pct',\n",
    "    'infant_mortality_rate',\n",
    "    'female_population_pct',\n",
    "    'male_population_pct',\n",
    "    ]\n",
    "df = df[[col for col in columns_of_interest if col in df.columns]]\n",
    "df.to_csv(\"data/wdi_gdp_data.csv\")"
   ]
  }
 ],
 "metadata": {
  "kernelspec": {
   "display_name": "env",
   "language": "python",
   "name": "python3"
  },
  "language_info": {
   "codemirror_mode": {
    "name": "ipython",
    "version": 3
   },
   "file_extension": ".py",
   "mimetype": "text/x-python",
   "name": "python",
   "nbconvert_exporter": "python",
   "pygments_lexer": "ipython3",
   "version": "3.12.2"
  }
 },
 "nbformat": 4,
 "nbformat_minor": 5
}
