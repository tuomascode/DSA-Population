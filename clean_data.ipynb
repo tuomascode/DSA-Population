{
 "cells": [
  {
   "cell_type": "code",
   "execution_count": 2,
   "id": "b0e58dfc",
   "metadata": {},
   "outputs": [
    {
     "name": "stdout",
     "output_type": "stream",
     "text": [
      "(10176, 14)\n"
     ]
    }
   ],
   "source": [
    "import pandas as pd\n",
    "df = pd.read_csv(\"data/wdi_gdp_data.csv\")\n",
    "df.drop([\"Unnamed: 0\", \"youth_literacy_gpi\"],axis=1, inplace=True)\n",
    "df = df[df[\"year\"] != 2024]\n",
    "df.to_csv(\"data/temp.csv\")\n",
    "print(df.shape)\n"
   ]
  },
  {
   "cell_type": "code",
   "execution_count": 3,
   "id": "6851af4d",
   "metadata": {},
   "outputs": [],
   "source": [
    "def fill_internet_users_before_first(df):\n",
    "    df = df.copy()\n",
    "    \n",
    "    for country, g in df.groupby(\"name\"):\n",
    "        first_valid = g[\"internet_users_pct\"].first_valid_index()\n",
    "        if first_valid is not None:\n",
    "            # Get all indices for this country that are before first_valid\n",
    "            mask = g.index[g.index < first_valid]\n",
    "            # Set those to 0 if they are NaN\n",
    "            df.loc[mask, \"internet_users_pct\"] = df.loc[mask, \"internet_users_pct\"].fillna(0)\n",
    "    return df\n",
    "df = fill_internet_users_before_first(df)"
   ]
  },
  {
   "cell_type": "code",
   "execution_count": null,
   "id": "c53654b4",
   "metadata": {},
   "outputs": [
    {
     "name": "stdout",
     "output_type": "stream",
     "text": [
      "0\n",
      "(8403, 14)\n",
      "(8403, 14)\n"
     ]
    },
    {
     "name": "stderr",
     "output_type": "stream",
     "text": [
      "C:\\Users\\tvuontis\\AppData\\Local\\Temp\\ipykernel_19632\\1830951871.py:2: FutureWarning: DataFrameGroupBy.apply operated on the grouping columns. This behavior is deprecated, and in a future version of pandas the grouping columns will be excluded from the operation. Either pass `include_groups=False` to exclude the groupings or explicitly select the grouping columns after groupby to silence this warning.\n",
      "  missing_frac = df.groupby(\"name\").apply(lambda g: g.isna().mean().mean())\n"
     ]
    }
   ],
   "source": [
    "x = 0.1  # for example, drop countries with >10% missing values overall\n",
    "missing_frac = df.groupby(\"name\").apply(lambda g: g.isna().mean().mean())\n",
    "\n",
    "remove_countries = missing_frac[missing_frac >= x].index\n",
    "\n",
    "print(df.shape)\n",
    "df = df[~df[\"name\"].isin(remove_countries)]\n",
    "print(df.shape)"
   ]
  },
  {
   "cell_type": "code",
   "execution_count": 9,
   "id": "d5c3afaf",
   "metadata": {},
   "outputs": [
    {
     "data": {
      "text/plain": [
       "(8403, 14)"
      ]
     },
     "execution_count": 9,
     "metadata": {},
     "output_type": "execute_result"
    }
   ],
   "source": [
    "# Count missing HCI per country\n",
    "missing_hci = df[df[\"human_capital_index\"].isna()]\n",
    "missing_count = missing_hci[\"name\"].value_counts()\n",
    "\n",
    "# Count total rows per country\n",
    "total_count = df[\"name\"].value_counts()\n",
    "\n",
    "# Combine into one DataFrame\n",
    "country_missing = (\n",
    "    pd.DataFrame({\n",
    "        \"missing_hci\": missing_count,\n",
    "        \"total_rows\": total_count\n",
    "    })\n",
    "    .fillna(0)\n",
    "    .astype(int)\n",
    "    .sort_values(\"missing_hci\", ascending=False)\n",
    ")\n",
    "\n",
    "# Add share of missing\n",
    "country_missing[\"missing_share_%\"] = (\n",
    "    100 * country_missing[\"missing_hci\"] / country_missing[\"total_rows\"]\n",
    ").round(1)\n",
    "\n",
    "missing_hci_countries  = list(country_missing[country_missing[\"missing_share_%\"] > 0].head(20).index)\n",
    "missing_hci_countries += ['Bosnia and Herzegovina', 'Haiti']\n",
    "df = df[~df[\"name\"].isin(missing_hci_countries)]\n",
    "df.shape"
   ]
  },
  {
   "cell_type": "code",
   "execution_count": 12,
   "id": "5250a606",
   "metadata": {},
   "outputs": [
    {
     "name": "stderr",
     "output_type": "stream",
     "text": [
      "C:\\Users\\tvuontis\\AppData\\Local\\Temp\\ipykernel_19632\\2123377202.py:13: FutureWarning: DataFrameGroupBy.apply operated on the grouping columns. This behavior is deprecated, and in a future version of pandas the grouping columns will be excluded from the operation. Either pass `include_groups=False` to exclude the groupings or explicitly select the grouping columns after groupby to silence this warning.\n",
      "  .apply(drop_leading_nans)\n"
     ]
    },
    {
     "data": {
      "text/plain": [
       "(8403, 14)"
      ]
     },
     "execution_count": 12,
     "metadata": {},
     "output_type": "execute_result"
    }
   ],
   "source": [
    "def drop_leading_nans(group, col=\"infant_mortality_rate\"):\n",
    "    # Find the first index where value is not NaN\n",
    "    first_valid = group[col].first_valid_index()\n",
    "    # If the whole column is NaN, drop the group entirely\n",
    "    if first_valid is None:\n",
    "        return pd.DataFrame(columns=group.columns)\n",
    "    # Otherwise keep rows from the first valid value onward\n",
    "    return group.loc[first_valid:]\n",
    "    \n",
    "df = (\n",
    "    df.sort_values([\"name\", \"year\"])\n",
    "      .groupby(\"name\", group_keys=False)\n",
    "      .apply(drop_leading_nans)\n",
    "      .reset_index(drop=True)\n",
    ")\n",
    "df.shape"
   ]
  },
  {
   "cell_type": "code",
   "execution_count": 7,
   "id": "6e72f17e",
   "metadata": {},
   "outputs": [
    {
     "name": "stdout",
     "output_type": "stream",
     "text": [
      "Total NaN values: 0\n"
     ]
    },
    {
     "name": "stderr",
     "output_type": "stream",
     "text": [
      "C:\\Users\\tvuontis\\AppData\\Local\\Temp\\ipykernel_19632\\3977114810.py:13: FutureWarning: DataFrameGroupBy.apply operated on the grouping columns. This behavior is deprecated, and in a future version of pandas the grouping columns will be excluded from the operation. Either pass `include_groups=False` to exclude the groupings or explicitly select the grouping columns after groupby to silence this warning.\n",
      "  .apply(drop_trailing_nans)\n"
     ]
    },
    {
     "data": {
      "text/plain": [
       "(8403, 14)"
      ]
     },
     "execution_count": 7,
     "metadata": {},
     "output_type": "execute_result"
    }
   ],
   "source": [
    "def drop_trailing_nans(group, col=\"internet_users_pct\"):\n",
    "    # Find the last index where value is not NaN\n",
    "    last_valid = group[col].last_valid_index()\n",
    "    # If everything is NaN, drop the group entirely\n",
    "    if last_valid is None:\n",
    "        return pd.DataFrame(columns=group.columns)\n",
    "    # Keep rows from start up to the last valid value\n",
    "    return group.loc[:last_valid]\n",
    "\n",
    "df = (\n",
    "    df.sort_values([\"name\", \"year\"])\n",
    "      .groupby(\"name\", group_keys=False)\n",
    "      .apply(drop_trailing_nans)\n",
    "      .reset_index(drop=True)\n",
    ")\n",
    "df.to_csv(\"data/clean_data.csv\")\n",
    "total_nans = df.isna().sum().sum()\n",
    "print(\"Total NaN values:\", total_nans)\n",
    "\n",
    "df.shape"
   ]
  }
 ],
 "metadata": {
  "kernelspec": {
   "display_name": "env",
   "language": "python",
   "name": "python3"
  },
  "language_info": {
   "codemirror_mode": {
    "name": "ipython",
    "version": 3
   },
   "file_extension": ".py",
   "mimetype": "text/x-python",
   "name": "python",
   "nbconvert_exporter": "python",
   "pygments_lexer": "ipython3",
   "version": "3.12.2"
  }
 },
 "nbformat": 4,
 "nbformat_minor": 5
}
