{
 "cells": [
  {
   "cell_type": "code",
   "execution_count": 25,
   "id": "8d15a6f9",
   "metadata": {},
   "outputs": [],
   "source": [
    "# =====================================\n",
    "# GDP Per Capita Modeling & Feature Importance\n",
    "# =====================================\n",
    "import pandas as pd\n",
    "import numpy as np"
   ]
  },
  {
   "cell_type": "code",
   "execution_count": 26,
   "id": "06328fbc",
   "metadata": {},
   "outputs": [
    {
     "name": "stdout",
     "output_type": "stream",
     "text": [
      "Data shape after processing: (8249, 14)\n"
     ]
    }
   ],
   "source": [
    "# -----------------------------\n",
    "# 1. Load and prepare data\n",
    "# -----------------------------\n",
    "\n",
    "# Load base dataset\n",
    "df_path = \"../data/clean_data.csv\"\n",
    "df = pd.read_csv(df_path).drop([\"Unnamed: 0\"], axis=1)\n",
    "\n",
    "# Sort for consistent year ordering within each country\n",
    "df = df.sort_values([\"alpha_2\", \"year\"]).copy()\n",
    "\n",
    "# Compute relative (percent) change year-over-year\n",
    "df[\"gdp_growth\"] = df.groupby(\"alpha_2\")[\"GDP\"].pct_change() * 100\n",
    "df[\"population_growth\"] = df.groupby(\"alpha_2\")[\"population\"].pct_change() * 100\n",
    "\n",
    "# Drop rows without previous-year data (first year per country)\n",
    "df.dropna(subset=[\"gdp_growth\", \"population_growth\"], inplace=True)\n",
    "\n",
    "# Remove absolute level columns, keeping only growth-based variables\n",
    "df.drop([\"population\", \"GDP\"], axis=1, inplace=True)\n",
    "\n",
    "print(\"Data shape after processing:\", df.shape)\n"
   ]
  },
  {
   "cell_type": "code",
   "execution_count": 27,
   "id": "e77f6220",
   "metadata": {},
   "outputs": [
    {
     "name": "stdout",
     "output_type": "stream",
     "text": [
      "Train countries: 107 | Val: 23 | Test: 24\n",
      "Train rows: 5770 | Val: 1293 | Test: 1186\n"
     ]
    }
   ],
   "source": [
    "# -----------------------------\n",
    "# 2. Split data by country\n",
    "# -----------------------------\n",
    "\n",
    "# Target column\n",
    "TARGET = \"gdp_growth\"\n",
    "\n",
    "# Get unique countries\n",
    "countries = df[\"alpha_2\"].unique()\n",
    "np.random.seed(42)  # for reproducibility\n",
    "np.random.shuffle(countries)\n",
    "\n",
    "# Split indices (70/15/15)\n",
    "n = len(countries)\n",
    "train_countries = countries[: int(0.7 * n)]\n",
    "val_countries   = countries[int(0.7 * n) : int(0.85 * n)]\n",
    "test_countries  = countries[int(0.85 * n) :]\n",
    "\n",
    "# Assign masks\n",
    "train_mask = df[\"alpha_2\"].isin(train_countries)\n",
    "val_mask   = df[\"alpha_2\"].isin(val_countries)\n",
    "test_mask  = df[\"alpha_2\"].isin(test_countries)\n",
    "\n",
    "# Create subsets\n",
    "train_df = df[train_mask].copy()\n",
    "val_df   = df[val_mask].copy()\n",
    "test_df  = df[test_mask].copy()\n",
    "\n",
    "print(f\"Train countries: {len(train_countries)} | \"\n",
    "      f\"Val: {len(val_countries)} | \"\n",
    "      f\"Test: {len(test_countries)}\")\n",
    "\n",
    "print(f\"Train rows: {train_df.shape[0]} | \"\n",
    "      f\"Val: {val_df.shape[0]} | \"\n",
    "      f\"Test: {test_df.shape[0]}\")\n"
   ]
  },
  {
   "cell_type": "code",
   "execution_count": 28,
   "id": "8a2cae23",
   "metadata": {},
   "outputs": [
    {
     "name": "stdout",
     "output_type": "stream",
     "text": [
      "Feature matrix shapes:\n",
      "Train: (5770, 10), Validation: (1293, 10), Test: (1186, 10)\n"
     ]
    }
   ],
   "source": [
    "# -----------------------------\n",
    "# 3. Define features and target\n",
    "# -----------------------------\n",
    "\n",
    "# Target variable: GDP growth (% change from previous year)\n",
    "TARGET = \"gdp_growth\"\n",
    "\n",
    "# Predictor features (all lag-insensitive indicators)\n",
    "features = [\n",
    "    \"population_growth\",\n",
    "    \"life_expectancy\",\n",
    "    \"net_migration\",\n",
    "    \"internet_users_pct\",\n",
    "    \"human_capital_index\",\n",
    "    \"school_enroll_secondary_gpi\",\n",
    "    \"urban_population_pct\",\n",
    "    \"infant_mortality_rate\",\n",
    "    \"female_population_pct\",\n",
    "    \"male_population_pct\",\n",
    "]\n",
    "\n",
    "# Split predictors and target for each subset\n",
    "X_train = train_df[features]\n",
    "y_train = train_df[TARGET]\n",
    "\n",
    "X_val = val_df[features]\n",
    "y_val = val_df[TARGET]\n",
    "\n",
    "X_test = test_df[features]\n",
    "y_test = test_df[TARGET]\n",
    "\n",
    "print(\"Feature matrix shapes:\")\n",
    "print(f\"Train: {X_train.shape}, Validation: {X_val.shape}, Test: {X_test.shape}\")\n"
   ]
  },
  {
   "cell_type": "code",
   "execution_count": 29,
   "id": "56c67973",
   "metadata": {},
   "outputs": [
    {
     "name": "stdout",
     "output_type": "stream",
     "text": [
      "Random Forest model initialized.\n"
     ]
    }
   ],
   "source": [
    "# -----------------------------\n",
    "# 4. Build Random Forest model\n",
    "# -----------------------------\n",
    "from sklearn.ensemble import RandomForestRegressor\n",
    "\n",
    "# Initialize Random Forest\n",
    "rf_model = RandomForestRegressor(\n",
    "    n_estimators=300,      # number of trees\n",
    "    max_depth=None,        # let trees grow fully (can tune later)\n",
    "    min_samples_split=2,\n",
    "    min_samples_leaf=1,\n",
    "    max_features=\"sqrt\",   # good default for regression\n",
    "    n_jobs=-1,             # use all CPU cores\n",
    "    random_state=42\n",
    ")\n",
    "\n",
    "print(\"Random Forest model initialized.\")\n"
   ]
  },
  {
   "cell_type": "code",
   "execution_count": null,
   "id": "1186a2cb",
   "metadata": {},
   "outputs": [
    {
     "name": "stdout",
     "output_type": "stream",
     "text": [
      "Training Random Forest model...\n",
      "Done!\n",
      "Model performance (original GDP scale):\n",
      "LinearReg  | RMSE: 38,167,107,568,876.73 | R²: -5896235701121774379859968.000\n",
      "\n",
      "Validation performance:\n",
      "RMSE: 528.47\n",
      "R²: -0.027\n"
     ]
    }
   ],
   "source": [
    "# -----------------------------\n",
    "# 5. Fit model\n",
    "# -----------------------------\n",
    "\n",
    "print(\"Training Random Forest model...\")\n",
    "rf_model.fit(X_train, y_train)\n",
    "print(\"Done!\")\n"
   ]
  },
  {
   "cell_type": "code",
   "execution_count": 35,
   "id": "7d46436a",
   "metadata": {},
   "outputs": [
    {
     "name": "stdout",
     "output_type": "stream",
     "text": [
      "\n",
      "Validation performance:\n",
      "RMSE: 22.99\n",
      "R²:   -0.027\n",
      "\n",
      "Test performance:\n",
      "RMSE: 15.73\n",
      "R²:   -0.002\n"
     ]
    }
   ],
   "source": [
    "# -----------------------------\n",
    "# 6. Evaluate model performance\n",
    "# -----------------------------\n",
    "import numpy as np\n",
    "from sklearn.metrics import r2_score\n",
    "\n",
    "# Prefer the dedicated RMSE function\n",
    "try:\n",
    "    from sklearn.metrics import root_mean_squared_error as rmse\n",
    "except ImportError:\n",
    "    # Fallback for older sklearn: compute RMSE manually\n",
    "    from sklearn.metrics import mean_squared_error\n",
    "    def rmse(y_true, y_pred):\n",
    "        return np.sqrt(mean_squared_error(y_true, y_pred))\n",
    "\n",
    "# --- Validation ---\n",
    "val_preds = rf_model.predict(X_val)\n",
    "val_rmse = rmse(y_val, val_preds)\n",
    "val_r2 = r2_score(y_val, val_preds)\n",
    "print(\"\\nValidation performance:\")\n",
    "print(f\"RMSE: {val_rmse:,.2f}\")\n",
    "print(f\"R²:   {val_r2:.3f}\")\n",
    "\n",
    "# --- Test ---\n",
    "test_preds = rf_model.predict(X_test)\n",
    "test_rmse = rmse(y_test, test_preds)\n",
    "test_r2 = r2_score(y_test, test_preds)\n",
    "print(\"\\nTest performance:\")\n",
    "print(f\"RMSE: {test_rmse:,.2f}\")\n",
    "print(f\"R²:   {test_r2:.3f}\")\n"
   ]
  },
  {
   "cell_type": "code",
   "execution_count": 36,
   "id": "a5beadcb",
   "metadata": {},
   "outputs": [
    {
     "data": {
      "image/png": "[encoded data removed]",
      "text/plain": [
       "<Figure size 800x500 with 1 Axes>"
      ]
     },
     "metadata": {},
     "output_type": "display_data"
    },
    {
     "name": "stdout",
     "output_type": "stream",
     "text": [
      "\n",
      "Feature importances (descending):\n",
      "population_growth              0.1379\n",
      "infant_mortality_rate          0.1109\n",
      "net_migration                  0.1099\n",
      "life_expectancy                0.1085\n",
      "male_population_pct            0.1053\n",
      "school_enroll_secondary_gpi    0.1040\n",
      "urban_population_pct           0.1034\n",
      "female_population_pct          0.0999\n",
      "internet_users_pct             0.0720\n",
      "human_capital_index            0.0483\n",
      "dtype: float64\n"
     ]
    }
   ],
   "source": [
    "# -----------------------------\n",
    "# 7. Feature importance\n",
    "# -----------------------------\n",
    "import pandas as pd\n",
    "import matplotlib.pyplot as plt\n",
    "\n",
    "# Extract feature importances\n",
    "importances = pd.Series(rf_model.feature_importances_, index=features)\n",
    "importances = importances.sort_values(ascending=True)\n",
    "\n",
    "# --- Plot top features ---\n",
    "plt.figure(figsize=(8, 5))\n",
    "importances.tail(10).plot(kind=\"barh\", color=\"forestgreen\")\n",
    "plt.title(\"Top 10 Most Predictive Features — Random Forest\")\n",
    "plt.xlabel(\"Relative Importance\")\n",
    "plt.ylabel(\"Feature\")\n",
    "plt.tight_layout()\n",
    "plt.show()\n",
    "\n",
    "# --- Print full ranking ---\n",
    "print(\"\\nFeature importances (descending):\")\n",
    "print(importances.sort_values(ascending=False).round(4))\n"
   ]
  },
  {
   "cell_type": "code",
   "execution_count": 37,
   "id": "6be83d4e",
   "metadata": {},
   "outputs": [
    {
     "name": "stdout",
     "output_type": "stream",
     "text": [
      "Rolling average created — new column: 'gdp_growth_3yr'\n"
     ]
    }
   ],
   "source": [
    "# -----------------------------\n",
    "# 8. Smooth target variable (3-year rolling average)\n",
    "# -----------------------------\n",
    "import pandas as pd\n",
    "\n",
    "# Sort by country and year to ensure correct rolling order\n",
    "df = df.sort_values([\"alpha_2\", \"year\"]).copy()\n",
    "\n",
    "# Compute 3-year rolling mean of GDP growth within each country\n",
    "df[\"gdp_growth_3yr\"] = (\n",
    "    df.groupby(\"alpha_2\")[\"gdp_growth\"]\n",
    "      .transform(lambda x: x.rolling(window=3, min_periods=1).mean())\n",
    ")\n",
    "\n",
    "print(\"Rolling average created — new column: 'gdp_growth_3yr'\")\n"
   ]
  },
  {
   "cell_type": "code",
   "execution_count": 38,
   "id": "1fa38966",
   "metadata": {},
   "outputs": [
    {
     "name": "stdout",
     "output_type": "stream",
     "text": [
      "Using smoothed target: gdp_growth_3yr\n"
     ]
    }
   ],
   "source": [
    "# -----------------------------\n",
    "# 9. Redefine target and splits\n",
    "# -----------------------------\n",
    "TARGET = \"gdp_growth_3yr\"\n",
    "\n",
    "X_train = train_df[features]\n",
    "y_train = train_df.merge(df[[\"alpha_2\", \"year\", TARGET]], on=[\"alpha_2\", \"year\"], how=\"left\")[TARGET]\n",
    "\n",
    "X_val = val_df[features]\n",
    "y_val = val_df.merge(df[[\"alpha_2\", \"year\", TARGET]], on=[\"alpha_2\", \"year\"], how=\"left\")[TARGET]\n",
    "\n",
    "X_test = test_df[features]\n",
    "y_test = test_df.merge(df[[\"alpha_2\", \"year\", TARGET]], on=[\"alpha_2\", \"year\"], how=\"left\")[TARGET]\n",
    "\n",
    "print(f\"Using smoothed target: {TARGET}\")\n"
   ]
  },
  {
   "cell_type": "code",
   "execution_count": 39,
   "id": "98b3ea58",
   "metadata": {},
   "outputs": [
    {
     "name": "stdout",
     "output_type": "stream",
     "text": [
      "\n",
      "Validation performance (3-year smoothed):\n",
      "RMSE: 14.89\n",
      "R²:   -0.027\n",
      "\n",
      "Test performance (3-year smoothed):\n",
      "RMSE: 10.34\n",
      "R²:   0.035\n"
     ]
    }
   ],
   "source": [
    "# -----------------------------\n",
    "# 10. Retrain Random Forest on smoothed target\n",
    "# -----------------------------\n",
    "rf_model.fit(X_train, y_train)\n",
    "\n",
    "# Evaluate\n",
    "from sklearn.metrics import root_mean_squared_error, r2_score\n",
    "\n",
    "val_preds = rf_model.predict(X_val)\n",
    "val_rmse = root_mean_squared_error(y_val, val_preds)\n",
    "val_r2 = r2_score(y_val, val_preds)\n",
    "\n",
    "test_preds = rf_model.predict(X_test)\n",
    "test_rmse = root_mean_squared_error(y_test, test_preds)\n",
    "test_r2 = r2_score(y_test, test_preds)\n",
    "\n",
    "print(\"\\nValidation performance (3-year smoothed):\")\n",
    "print(f\"RMSE: {val_rmse:,.2f}\")\n",
    "print(f\"R²:   {val_r2:.3f}\")\n",
    "\n",
    "print(\"\\nTest performance (3-year smoothed):\")\n",
    "print(f\"RMSE: {test_rmse:,.2f}\")\n",
    "print(f\"R²:   {test_r2:.3f}\")\n"
   ]
  },
  {
   "cell_type": "code",
   "execution_count": null,
   "id": "e1f4bc14",
   "metadata": {},
   "outputs": [],
   "source": [
    "# -----------------------------\n",
    "# 7. Feature importance\n",
    "# -----------------------------\n",
    "import pandas as pd\n",
    "import matplotlib.pyplot as plt\n",
    "\n",
    "# Extract feature importances\n",
    "importances = pd.Series(rf_model.feature_importances_, index=features)\n",
    "importances = importances.sort_values(ascending=True)\n",
    "\n",
    "# --- Plot top features ---\n",
    "plt.figure(figsize=(8, 5))\n",
    "importances.tail(10).plot(kind=\"barh\", color=\"forestgreen\")\n",
    "plt.title(\"Top 10 Most Predictive Features — Random Forest\")\n",
    "plt.xlabel(\"Relative Importance\")\n",
    "plt.ylabel(\"Feature\")\n",
    "plt.tight_layout()\n",
    "plt.show()\n",
    "\n",
    "# --- Print full ranking ---\n",
    "print(\"\\nFeature importances (descending):\")\n",
    "print(importances.sort_values(ascending=False).round(4))\n"
   ]
  }
 ],
 "metadata": {
  "kernelspec": {
   "display_name": "env",
   "language": "python",
   "name": "python3"
  },
  "language_info": {
   "codemirror_mode": {
    "name": "ipython",
    "version": 3
   },
   "file_extension": ".py",
   "mimetype": "text/x-python",
   "name": "python",
   "nbconvert_exporter": "python",
   "pygments_lexer": "ipython3",
   "version": "3.12.2"
  }
 },
 "nbformat": 4,
 "nbformat_minor": 5
}
